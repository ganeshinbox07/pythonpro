{
  "nbformat": 4,
  "nbformat_minor": 0,
  "metadata": {
    "colab": {
      "provenance": [],
      "authorship_tag": "ABX9TyMMEt9duwEZtv5JHSkg9H+Z",
      "include_colab_link": true
    },
    "kernelspec": {
      "name": "python3",
      "display_name": "Python 3"
    },
    "language_info": {
      "name": "python"
    }
  },
  "cells": [
    {
      "cell_type": "markdown",
      "metadata": {
        "id": "view-in-github",
        "colab_type": "text"
      },
      "source": [
        "<a href=\"https://colab.research.google.com/github/ganeshinbox07/pythonpro/blob/main/python_1.ipynb\" target=\"_parent\"><img src=\"https://colab.research.google.com/assets/colab-badge.svg\" alt=\"Open In Colab\"/></a>"
      ]
    },
    {
      "cell_type": "code",
      "execution_count": null,
      "metadata": {
        "colab": {
          "base_uri": "https://localhost:8080/"
        },
        "id": "fbjnjnTq91gA",
        "outputId": "5530bda8-8cb6-4738-80e6-d581f906dac1"
      },
      "outputs": [
        {
          "output_type": "stream",
          "name": "stdout",
          "text": [
            "Ganesh\n"
          ]
        }
      ],
      "source": [
        "print(\"Ganesh\")"
      ]
    },
    {
      "cell_type": "code",
      "source": [
        "print(\"thet was a new technique\")"
      ],
      "metadata": {
        "colab": {
          "base_uri": "https://localhost:8080/"
        },
        "id": "qQ3pIB4MwVtR",
        "outputId": "aa7b4a37-1bb9-4bc2-dab7-f46225bccfa6"
      },
      "execution_count": null,
      "outputs": [
        {
          "output_type": "stream",
          "name": "stdout",
          "text": [
            "thet was a new technique\n"
          ]
        }
      ]
    },
    {
      "cell_type": "code",
      "source": [
        "print(10+10)"
      ],
      "metadata": {
        "colab": {
          "base_uri": "https://localhost:8080/"
        },
        "id": "3uc3Wl58-Ept",
        "outputId": "2ba5eba4-513e-4ca2-c3ad-3669d65332f2"
      },
      "execution_count": null,
      "outputs": [
        {
          "output_type": "stream",
          "name": "stdout",
          "text": [
            "20\n"
          ]
        }
      ]
    },
    {
      "cell_type": "code",
      "source": [
        "a=20\n",
        "print(\"thr value is $\",a)"
      ],
      "metadata": {
        "colab": {
          "base_uri": "https://localhost:8080/"
        },
        "id": "wUDyeNi9y28w",
        "outputId": "bd9b0885-fd8b-4c22-8a30-3441008c45f9"
      },
      "execution_count": null,
      "outputs": [
        {
          "output_type": "stream",
          "name": "stdout",
          "text": [
            "thr value is $ 20\n"
          ]
        }
      ]
    },
    {
      "cell_type": "code",
      "source": [
        "a=20\n",
        "print(\"thr value is $\",a,sep=\"\")"
      ],
      "metadata": {
        "colab": {
          "base_uri": "https://localhost:8080/"
        },
        "id": "KJVuRSn45Gek",
        "outputId": "3e3d5027-314d-4d1b-d9f6-e2ea302d9bfb"
      },
      "execution_count": null,
      "outputs": [
        {
          "output_type": "stream",
          "name": "stdout",
          "text": [
            "thr value is $20\n"
          ]
        }
      ]
    },
    {
      "cell_type": "code",
      "source": [
        "a=20\n",
        "print(\"thr value is $\",a,sep=\"     \")"
      ],
      "metadata": {
        "colab": {
          "base_uri": "https://localhost:8080/"
        },
        "id": "lqJK21iY-e3c",
        "outputId": "6cc8fe9b-a57d-45d4-f5d3-2dc04b994c5a"
      },
      "execution_count": null,
      "outputs": [
        {
          "output_type": "stream",
          "name": "stdout",
          "text": [
            "thr value is $     20\n"
          ]
        }
      ]
    },
    {
      "cell_type": "code",
      "source": [
        "storage=258\n",
        "print(\"the mobile phone sorage is\",      storage,\"gb\")"
      ],
      "metadata": {
        "colab": {
          "base_uri": "https://localhost:8080/"
        },
        "id": "ZThOLrqr_8NS",
        "outputId": "360f51b0-86d2-4571-f72f-82efd6eb784d"
      },
      "execution_count": null,
      "outputs": [
        {
          "output_type": "stream",
          "name": "stdout",
          "text": [
            "the mobile phone sorage is 258 gb\n"
          ]
        }
      ]
    },
    {
      "cell_type": "code",
      "source": [
        "storage=258\n",
        "print(\"the mobile phone sorage is\",     storage,\"gb\",sep=\"\")"
      ],
      "metadata": {
        "colab": {
          "base_uri": "https://localhost:8080/"
        },
        "id": "Hzo_ZvkY-l0G",
        "outputId": "5c3000f7-6f2c-4b6d-ffe4-6824ccc05994"
      },
      "execution_count": null,
      "outputs": [
        {
          "output_type": "stream",
          "name": "stdout",
          "text": [
            "the mobile phone sorage is258gb\n"
          ]
        }
      ]
    },
    {
      "cell_type": "code",
      "source": [
        "bill=900\n",
        "price=bill/2\n",
        "print(\"the mobile cost is $\",price,sep=\"\")"
      ],
      "metadata": {
        "id": "WzHQUiMeAYmF",
        "colab": {
          "base_uri": "https://localhost:8080/"
        },
        "outputId": "eeab76fc-14bb-47eb-ae4a-90c327b6b948"
      },
      "execution_count": null,
      "outputs": [
        {
          "output_type": "stream",
          "name": "stdout",
          "text": [
            "the mobile cost is $450.0\n"
          ]
        }
      ]
    },
    {
      "cell_type": "code",
      "source": [
        "type(price)"
      ],
      "metadata": {
        "colab": {
          "base_uri": "https://localhost:8080/"
        },
        "id": "wzE51Kh96AjC",
        "outputId": "5f8b7d2d-abf0-4a4e-bd83-85d3824b1226"
      },
      "execution_count": null,
      "outputs": [
        {
          "output_type": "execute_result",
          "data": {
            "text/plain": [
              "float"
            ]
          },
          "metadata": {},
          "execution_count": 5
        }
      ]
    },
    {
      "cell_type": "code",
      "source": [
        "bill=900\n",
        "price=bill//2\n",
        "print(\"the mobile cost is $\",price,sep=\"\")"
      ],
      "metadata": {
        "colab": {
          "base_uri": "https://localhost:8080/"
        },
        "id": "2h2p8r-Q6Dza",
        "outputId": "4a0bc811-c566-4be5-9f53-5c4df365f3ef"
      },
      "execution_count": null,
      "outputs": [
        {
          "output_type": "stream",
          "name": "stdout",
          "text": [
            "the mobile cost is $450\n"
          ]
        }
      ]
    },
    {
      "cell_type": "code",
      "source": [
        "print(1000/2)\n",
        "print(1000//2)"
      ],
      "metadata": {
        "colab": {
          "base_uri": "https://localhost:8080/"
        },
        "id": "DG7NZYrN6H0t",
        "outputId": "140c59cf-cc0f-4fa1-ccf0-489c8c01afd6"
      },
      "execution_count": null,
      "outputs": [
        {
          "output_type": "stream",
          "name": "stdout",
          "text": [
            "500.0\n",
            "500\n"
          ]
        }
      ]
    },
    {
      "cell_type": "code",
      "source": [
        "print(5/2)\n",
        "print(5//2)\n",
        "# round amount to show do this  //"
      ],
      "metadata": {
        "colab": {
          "base_uri": "https://localhost:8080/"
        },
        "id": "kX1xX2Iu6M9w",
        "outputId": "e452babe-ab2c-46aa-ba4b-f381bfaca417"
      },
      "execution_count": null,
      "outputs": [
        {
          "output_type": "stream",
          "name": "stdout",
          "text": [
            "2.5\n",
            "2\n"
          ]
        }
      ]
    },
    {
      "cell_type": "code",
      "source": [
        "#the quize question\n",
        "a = 30\n",
        "b = 8\n",
        "c = a/b\n",
        "print(\"a is of type\",type(a), \"and c is of type\", type(c) )"
      ],
      "metadata": {
        "id": "ilQp2jSLHNaF"
      },
      "execution_count": null,
      "outputs": []
    },
    {
      "cell_type": "code",
      "source": [
        "a=4.5\n",
        "b=int(a)\n",
        "type(b)\n"
      ],
      "metadata": {
        "colab": {
          "base_uri": "https://localhost:8080/"
        },
        "id": "ikM4o8erHT_D",
        "outputId": "06290484-d5ba-45a4-f3ab-72a362634d8e"
      },
      "execution_count": null,
      "outputs": [
        {
          "output_type": "execute_result",
          "data": {
            "text/plain": [
              "int"
            ]
          },
          "metadata": {},
          "execution_count": 34
        }
      ]
    },
    {
      "cell_type": "code",
      "source": [
        "a=\"Hi\"\n",
        "b=int(a)\n",
        "type(b)"
      ],
      "metadata": {
        "colab": {
          "base_uri": "https://localhost:8080/",
          "height": 210
        },
        "id": "GserViOBHdfz",
        "outputId": "762b5bef-a656-4fc3-c6f7-64bb4cf6ac47"
      },
      "execution_count": null,
      "outputs": [
        {
          "output_type": "error",
          "ename": "ValueError",
          "evalue": "ignored",
          "traceback": [
            "\u001b[0;31m---------------------------------------------------------------------------\u001b[0m",
            "\u001b[0;31mValueError\u001b[0m                                Traceback (most recent call last)",
            "\u001b[0;32m<ipython-input-35-27ac102dd642>\u001b[0m in \u001b[0;36m<cell line: 2>\u001b[0;34m()\u001b[0m\n\u001b[1;32m      1\u001b[0m \u001b[0ma\u001b[0m\u001b[0;34m=\u001b[0m\u001b[0;34m\"Hi\"\u001b[0m\u001b[0;34m\u001b[0m\u001b[0;34m\u001b[0m\u001b[0m\n\u001b[0;32m----> 2\u001b[0;31m \u001b[0mb\u001b[0m\u001b[0;34m=\u001b[0m\u001b[0mint\u001b[0m\u001b[0;34m(\u001b[0m\u001b[0ma\u001b[0m\u001b[0;34m)\u001b[0m\u001b[0;34m\u001b[0m\u001b[0;34m\u001b[0m\u001b[0m\n\u001b[0m\u001b[1;32m      3\u001b[0m \u001b[0mtype\u001b[0m\u001b[0;34m(\u001b[0m\u001b[0mb\u001b[0m\u001b[0;34m)\u001b[0m\u001b[0;34m\u001b[0m\u001b[0;34m\u001b[0m\u001b[0m\n",
            "\u001b[0;31mValueError\u001b[0m: invalid literal for int() with base 10: 'Hi'"
          ]
        }
      ]
    },
    {
      "cell_type": "code",
      "source": [
        "a=10\n",
        "b=str(a)\n",
        "type(b)\n"
      ],
      "metadata": {
        "colab": {
          "base_uri": "https://localhost:8080/"
        },
        "id": "7durrgwfHkIc",
        "outputId": "a9c58952-49bc-41a0-95dd-2f007fd4e8ce"
      },
      "execution_count": null,
      "outputs": [
        {
          "output_type": "execute_result",
          "data": {
            "text/plain": [
              "str"
            ]
          },
          "metadata": {},
          "execution_count": 38
        }
      ]
    },
    {
      "cell_type": "code",
      "source": [
        "price=900\n",
        "disprice=900*0.045\n",
        "phoneprice=price-disprice\n",
        "print(\"the discounted price is\",phoneprice)"
      ],
      "metadata": {
        "colab": {
          "base_uri": "https://localhost:8080/"
        },
        "id": "dvvI6Q0T8kvR",
        "outputId": "ee22bd59-e444-4f9c-a4ec-e22f53006d74"
      },
      "execution_count": null,
      "outputs": [
        {
          "output_type": "stream",
          "name": "stdout",
          "text": [
            "the discounted price is 859.5\n"
          ]
        }
      ]
    },
    {
      "cell_type": "code",
      "source": [
        "price=900\n",
        "disprice=900*0.045\n",
        "phoneprice=price-disprice\n",
        "print(\"the discounted price is\"+str(phoneprice))"
      ],
      "metadata": {
        "colab": {
          "base_uri": "https://localhost:8080/"
        },
        "id": "BlJQIpxZ_9lQ",
        "outputId": "e40ec757-e83f-4b7f-a785-9a3acb4cbf24"
      },
      "execution_count": null,
      "outputs": [
        {
          "output_type": "stream",
          "name": "stdout",
          "text": [
            "the discounted price is859.5\n"
          ]
        }
      ]
    },
    {
      "cell_type": "code",
      "source": [
        "type(disprice)"
      ],
      "metadata": {
        "colab": {
          "base_uri": "https://localhost:8080/"
        },
        "id": "-ds8LILBAJrL",
        "outputId": "ff908bb4-0653-4328-d02c-4bcab94ae592"
      },
      "execution_count": null,
      "outputs": [
        {
          "output_type": "execute_result",
          "data": {
            "text/plain": [
              "float"
            ]
          },
          "metadata": {},
          "execution_count": 22
        }
      ]
    },
    {
      "cell_type": "code",
      "source": [],
      "metadata": {
        "id": "59yTIPapGw4t"
      },
      "execution_count": null,
      "outputs": []
    },
    {
      "cell_type": "code",
      "source": [
        "type(phoneprice)"
      ],
      "metadata": {
        "colab": {
          "base_uri": "https://localhost:8080/"
        },
        "id": "T7Da10ilAUkJ",
        "outputId": "e69137df-1433-43f1-c404-cb245131150e"
      },
      "execution_count": null,
      "outputs": [
        {
          "output_type": "execute_result",
          "data": {
            "text/plain": [
              "float"
            ]
          },
          "metadata": {},
          "execution_count": 23
        }
      ]
    },
    {
      "cell_type": "code",
      "source": [
        "# explicit type conversion\n",
        "brand=\"apple\"\n",
        "ram=8\n",
        "print(brand+\" \"+str(ram)+\"gb\")"
      ],
      "metadata": {
        "colab": {
          "base_uri": "https://localhost:8080/"
        },
        "id": "1XhOz6-eD_Iw",
        "outputId": "a2284b0e-85c9-4f39-c444-5b56aceea069"
      },
      "execution_count": null,
      "outputs": [
        {
          "output_type": "stream",
          "name": "stdout",
          "text": [
            "apple 8gb\n"
          ]
        }
      ]
    },
    {
      "cell_type": "code",
      "source": [
        "print(brand+str(ram)+\"gb\")"
      ],
      "metadata": {
        "colab": {
          "base_uri": "https://localhost:8080/"
        },
        "id": "3ir71JI7FQ-J",
        "outputId": "711733b2-37e8-439a-9914-74f19dbc3d2d"
      },
      "execution_count": null,
      "outputs": [
        {
          "output_type": "stream",
          "name": "stdout",
          "text": [
            "apple8gb\n"
          ]
        }
      ]
    },
    {
      "cell_type": "code",
      "source": [
        "print(brand+str(ram),\"gb\")"
      ],
      "metadata": {
        "colab": {
          "base_uri": "https://localhost:8080/"
        },
        "id": "6G-uBOVeFbc5",
        "outputId": "6af05809-45e2-4fce-d8c0-8bac18e81c3d"
      },
      "execution_count": null,
      "outputs": [
        {
          "output_type": "stream",
          "name": "stdout",
          "text": [
            "apple8 gb\n"
          ]
        }
      ]
    },
    {
      "cell_type": "code",
      "source": [
        "type(ram)"
      ],
      "metadata": {
        "colab": {
          "base_uri": "https://localhost:8080/"
        },
        "id": "rlLbPbLiFhJZ",
        "outputId": "85faf65c-967a-4f83-914a-fd9ec198f1e5"
      },
      "execution_count": null,
      "outputs": [
        {
          "output_type": "execute_result",
          "data": {
            "text/plain": [
              "int"
            ]
          },
          "metadata": {},
          "execution_count": 33
        }
      ]
    },
    {
      "cell_type": "code",
      "source": [
        "r=10\n",
        "b=str(r)\n",
        "type(b)"
      ],
      "metadata": {
        "colab": {
          "base_uri": "https://localhost:8080/"
        },
        "id": "TC5uABWUGEau",
        "outputId": "c7baf550-26f3-444b-8090-305e04ea8c85"
      },
      "execution_count": null,
      "outputs": [
        {
          "output_type": "execute_result",
          "data": {
            "text/plain": [
              "str"
            ]
          },
          "metadata": {},
          "execution_count": 39
        }
      ]
    },
    {
      "cell_type": "code",
      "source": [
        "type(r)"
      ],
      "metadata": {
        "colab": {
          "base_uri": "https://localhost:8080/"
        },
        "id": "bUJ_FPXfILUe",
        "outputId": "6ca46093-08cf-4632-e66e-3b588ff18250"
      },
      "execution_count": null,
      "outputs": [
        {
          "output_type": "execute_result",
          "data": {
            "text/plain": [
              "int"
            ]
          },
          "metadata": {},
          "execution_count": 40
        }
      ]
    },
    {
      "cell_type": "markdown",
      "source": [
        "# list"
      ],
      "metadata": {
        "id": "cOXzUVd5JlZq"
      }
    },
    {
      "cell_type": "code",
      "source": [
        "brand_list=[\"apple\",\"samsung\",\"lg\",\"apple\"]\n",
        "tuple=(\"apple\",\"samsung\",\"lg\",\"apple\")\n",
        "print(tuple)"
      ],
      "metadata": {
        "colab": {
          "base_uri": "https://localhost:8080/"
        },
        "id": "7w5Jh5QRIike",
        "outputId": "537e7963-af3c-415f-86fe-d85146f711d8"
      },
      "execution_count": null,
      "outputs": [
        {
          "output_type": "stream",
          "name": "stdout",
          "text": [
            "('apple', 'samsung', 'lg', 'apple')\n"
          ]
        }
      ]
    },
    {
      "cell_type": "code",
      "source": [
        "set={\"apple\",\"samsung\",\"lg\",\"apple\"}\n",
        "print(set)"
      ],
      "metadata": {
        "colab": {
          "base_uri": "https://localhost:8080/"
        },
        "id": "IOPS-XTgJ8fi",
        "outputId": "01a80706-bf6b-4f14-aa37-99e84cb3d07d"
      },
      "execution_count": null,
      "outputs": [
        {
          "output_type": "stream",
          "name": "stdout",
          "text": [
            "{'samsung', 'apple', 'lg'}\n"
          ]
        }
      ]
    },
    {
      "cell_type": "code",
      "source": [
        "brand_list=[\"apple\",\"samsung\",\"lg\",\"apple\"]\n",
        "ram_list=[8,12,4,6]\n",
        "storage_list=[256,256,64,128]\n",
        "price_list=[900,899,600,800]"
      ],
      "metadata": {
        "id": "sprz5QGZKVFN"
      },
      "execution_count": null,
      "outputs": []
    },
    {
      "cell_type": "code",
      "source": [
        "print(ram_list[2])\n",
        "print(ram_list[-1])\n",
        "print(ram_list[-3])\n",
        "print(ram_list[1:-1])\n",
        "print(ram_list[0:3])\n",
        "print(ram_list[0::3])\n",
        "print(ram_list[-3:-1])\n",
        "print(ram_list[-1:-3])"
      ],
      "metadata": {
        "colab": {
          "base_uri": "https://localhost:8080/"
        },
        "id": "oSfBUwXBKIRq",
        "outputId": "892f712f-5f73-42e6-f8cf-4e36df15e82b"
      },
      "execution_count": null,
      "outputs": [
        {
          "output_type": "stream",
          "name": "stdout",
          "text": [
            "4\n",
            "6\n",
            "12\n",
            "[12, 4]\n",
            "[8, 12, 4]\n",
            "[8, 6]\n",
            "[12, 4]\n",
            "[]\n"
          ]
        }
      ]
    },
    {
      "cell_type": "code",
      "source": [
        "ex_list=[1,2,3,4,5,6,7,8,9]\n",
        "# 6 th index number reoved\n",
        "print(ex_list.pop(6))"
      ],
      "metadata": {
        "colab": {
          "base_uri": "https://localhost:8080/"
        },
        "id": "Gu0684--NTED",
        "outputId": "f5ecb727-c12b-4262-defd-1cce0706332f"
      },
      "execution_count": null,
      "outputs": [
        {
          "output_type": "stream",
          "name": "stdout",
          "text": [
            "7\n"
          ]
        }
      ]
    },
    {
      "cell_type": "code",
      "source": [
        "ex_list.append(7)\n",
        "# last index added\n",
        "print(ex_list)"
      ],
      "metadata": {
        "colab": {
          "base_uri": "https://localhost:8080/"
        },
        "id": "SmaDdnbUPKt7",
        "outputId": "50a8ee5e-bc26-4052-cbc9-be205eed76b9"
      },
      "execution_count": null,
      "outputs": [
        {
          "output_type": "stream",
          "name": "stdout",
          "text": [
            "[1, 2, 3, 4, 5, 6, 8, 9, 7]\n"
          ]
        }
      ]
    },
    {
      "cell_type": "code",
      "source": [
        " ex_list.pop()\n",
        " # last number only removed\n",
        " print(ex_list)"
      ],
      "metadata": {
        "colab": {
          "base_uri": "https://localhost:8080/"
        },
        "id": "nlysBwkSPvdR",
        "outputId": "7e61daa5-63ba-43ec-f6f2-16c2d833b2a5"
      },
      "execution_count": null,
      "outputs": [
        {
          "output_type": "stream",
          "name": "stdout",
          "text": [
            "[1, 2, 3, 4, 5, 6, 8, 9]\n"
          ]
        }
      ]
    },
    {
      "cell_type": "code",
      "source": [
        "brand_list.append(\"motorola\")\n",
        "print(brand_list)"
      ],
      "metadata": {
        "colab": {
          "base_uri": "https://localhost:8080/"
        },
        "id": "RtXONmJPPXCk",
        "outputId": "1d386234-0d76-4852-eaeb-764d2589ebe4"
      },
      "execution_count": null,
      "outputs": [
        {
          "output_type": "stream",
          "name": "stdout",
          "text": [
            "['apple', 'samsung', 'lg', 'apple', 'motorola']\n"
          ]
        }
      ]
    },
    {
      "cell_type": "markdown",
      "source": [
        "#      quize quetions"
      ],
      "metadata": {
        "id": "EhlnX0MyQ4f4"
      }
    },
    {
      "cell_type": "code",
      "source": [
        "# quize question\n",
        "X= [10,\"Range\", \"Great\", -54, 11, 12]\n",
        "print(X[1])"
      ],
      "metadata": {
        "colab": {
          "base_uri": "https://localhost:8080/"
        },
        "id": "XPgUj1xQPpq6",
        "outputId": "d52f4c91-6730-4554-c579-28d901b9313d"
      },
      "execution_count": null,
      "outputs": [
        {
          "output_type": "stream",
          "name": "stdout",
          "text": [
            "Range\n"
          ]
        }
      ]
    },
    {
      "cell_type": "code",
      "source": [
        "X= [10,\"Range\", \"Great\", -54, 11, 12]\n",
        "print(len(X[2:4]))"
      ],
      "metadata": {
        "colab": {
          "base_uri": "https://localhost:8080/"
        },
        "id": "HI7hWQY_Qzfz",
        "outputId": "03bc7d62-8a66-40de-bb98-7d0bc944b6b6"
      },
      "execution_count": null,
      "outputs": [
        {
          "output_type": "stream",
          "name": "stdout",
          "text": [
            "2\n"
          ]
        }
      ]
    },
    {
      "cell_type": "code",
      "source": [
        "X= [10,\"Range\", \"Great\", -54, 11, 12]\n",
        "print(X[2:-1])"
      ],
      "metadata": {
        "colab": {
          "base_uri": "https://localhost:8080/"
        },
        "id": "VjUIPUtLQ2aw",
        "outputId": "2236f137-6dc1-47f8-89c9-2d7030029728"
      },
      "execution_count": null,
      "outputs": [
        {
          "output_type": "stream",
          "name": "stdout",
          "text": [
            "['Great', -54, 11]\n"
          ]
        }
      ]
    },
    {
      "cell_type": "code",
      "source": [
        "X= [10,\"Range\", \"Great\", -54, 11, 12]\n",
        "print(X[-2:-1])"
      ],
      "metadata": {
        "colab": {
          "base_uri": "https://localhost:8080/"
        },
        "id": "JJpGsitbRKRe",
        "outputId": "85fdb57d-9433-4c4c-e4cb-cd8c6e5acb50"
      },
      "execution_count": null,
      "outputs": [
        {
          "output_type": "stream",
          "name": "stdout",
          "text": [
            "[11]\n"
          ]
        }
      ]
    },
    {
      "cell_type": "code",
      "source": [
        "# tuple\n",
        "store=(5,6,54,89,74,85,96)\n",
        "print(store[2])"
      ],
      "metadata": {
        "id": "SauZaJrkR5HK",
        "colab": {
          "base_uri": "https://localhost:8080/"
        },
        "outputId": "25eea842-8cdb-417c-a81c-4ad232d9cebc"
      },
      "execution_count": null,
      "outputs": [
        {
          "output_type": "stream",
          "name": "stdout",
          "text": [
            "54\n"
          ]
        }
      ]
    },
    {
      "cell_type": "code",
      "source": [
        "store[1]=100     # the tuple values can't be changeable. it called immutable\n",
        "print(store)"
      ],
      "metadata": {
        "colab": {
          "base_uri": "https://localhost:8080/",
          "height": 193
        },
        "id": "5EJYm4ZEAYYd",
        "outputId": "07fb4bea-788d-47ba-c87a-5983c3b6d45d"
      },
      "execution_count": null,
      "outputs": [
        {
          "output_type": "error",
          "ename": "TypeError",
          "evalue": "ignored",
          "traceback": [
            "\u001b[0;31m---------------------------------------------------------------------------\u001b[0m",
            "\u001b[0;31mTypeError\u001b[0m                                 Traceback (most recent call last)",
            "\u001b[0;32m<ipython-input-3-2338a6f22324>\u001b[0m in \u001b[0;36m<cell line: 1>\u001b[0;34m()\u001b[0m\n\u001b[0;32m----> 1\u001b[0;31m \u001b[0mstore\u001b[0m\u001b[0;34m[\u001b[0m\u001b[0;36m1\u001b[0m\u001b[0;34m]\u001b[0m\u001b[0;34m=\u001b[0m\u001b[0;36m100\u001b[0m\u001b[0;34m\u001b[0m\u001b[0;34m\u001b[0m\u001b[0m\n\u001b[0m\u001b[1;32m      2\u001b[0m \u001b[0mprint\u001b[0m\u001b[0;34m(\u001b[0m\u001b[0mstore\u001b[0m\u001b[0;34m)\u001b[0m\u001b[0;34m\u001b[0m\u001b[0;34m\u001b[0m\u001b[0m\n",
            "\u001b[0;31mTypeError\u001b[0m: 'tuple' object does not support item assignment"
          ]
        }
      ]
    },
    {
      "cell_type": "code",
      "source": [
        "# quize question\n",
        "X=(20,23,-50,5.6,98)\n",
        "X.pop(2)\n",
        "print(X)"
      ],
      "metadata": {
        "colab": {
          "base_uri": "https://localhost:8080/",
          "height": 227
        },
        "id": "IuQ7GUlwAvE0",
        "outputId": "d0b07b7f-0102-4782-a1a0-9f25be250a16"
      },
      "execution_count": null,
      "outputs": [
        {
          "output_type": "error",
          "ename": "AttributeError",
          "evalue": "ignored",
          "traceback": [
            "\u001b[0;31m---------------------------------------------------------------------------\u001b[0m",
            "\u001b[0;31mAttributeError\u001b[0m                            Traceback (most recent call last)",
            "\u001b[0;32m<ipython-input-4-9df089f5cf49>\u001b[0m in \u001b[0;36m<cell line: 3>\u001b[0;34m()\u001b[0m\n\u001b[1;32m      1\u001b[0m \u001b[0;31m# quize question\u001b[0m\u001b[0;34m\u001b[0m\u001b[0;34m\u001b[0m\u001b[0m\n\u001b[1;32m      2\u001b[0m \u001b[0mX\u001b[0m\u001b[0;34m=\u001b[0m\u001b[0;34m(\u001b[0m\u001b[0;36m20\u001b[0m\u001b[0;34m,\u001b[0m\u001b[0;36m23\u001b[0m\u001b[0;34m,\u001b[0m\u001b[0;34m-\u001b[0m\u001b[0;36m50\u001b[0m\u001b[0;34m,\u001b[0m\u001b[0;36m5.6\u001b[0m\u001b[0;34m,\u001b[0m\u001b[0;36m98\u001b[0m\u001b[0;34m)\u001b[0m\u001b[0;34m\u001b[0m\u001b[0;34m\u001b[0m\u001b[0m\n\u001b[0;32m----> 3\u001b[0;31m \u001b[0mX\u001b[0m\u001b[0;34m.\u001b[0m\u001b[0mpop\u001b[0m\u001b[0;34m(\u001b[0m\u001b[0;36m2\u001b[0m\u001b[0;34m)\u001b[0m\u001b[0;34m\u001b[0m\u001b[0;34m\u001b[0m\u001b[0m\n\u001b[0m\u001b[1;32m      4\u001b[0m \u001b[0mprint\u001b[0m\u001b[0;34m(\u001b[0m\u001b[0mX\u001b[0m\u001b[0;34m)\u001b[0m\u001b[0;34m\u001b[0m\u001b[0;34m\u001b[0m\u001b[0m\n",
            "\u001b[0;31mAttributeError\u001b[0m: 'tuple' object has no attribute 'pop'"
          ]
        }
      ]
    },
    {
      "cell_type": "code",
      "source": [
        "# dictionary\n",
        "attributes={\"brand\":\"apple\",\"ram\":4,\"storage\":128,\"price\":800}\n",
        "print(attributes)"
      ],
      "metadata": {
        "colab": {
          "base_uri": "https://localhost:8080/"
        },
        "id": "I1tNTGp_Bvl1",
        "outputId": "e35a85b5-7751-4403-ab0f-e58caa42223e"
      },
      "execution_count": null,
      "outputs": [
        {
          "output_type": "stream",
          "name": "stdout",
          "text": [
            "{'brand': 'apple', 'ram': 4, 'storage': 128, 'price': 800}\n"
          ]
        }
      ]
    },
    {
      "cell_type": "code",
      "source": [
        "print(attributes[\"price\"])"
      ],
      "metadata": {
        "colab": {
          "base_uri": "https://localhost:8080/"
        },
        "id": "5Bkgg1yKDsW9",
        "outputId": "3a859855-9fd5-4ade-a692-b310c65ec04f"
      },
      "execution_count": null,
      "outputs": [
        {
          "output_type": "stream",
          "name": "stdout",
          "text": [
            "800\n"
          ]
        }
      ]
    },
    {
      "cell_type": "code",
      "source": [
        "[] - indicate the index"
      ],
      "metadata": {
        "id": "HAZbxCJOEUcp"
      },
      "execution_count": null,
      "outputs": []
    },
    {
      "cell_type": "code",
      "source": [
        "attributes[\"price\"]=1000\n",
        "print(attributes)"
      ],
      "metadata": {
        "colab": {
          "base_uri": "https://localhost:8080/"
        },
        "id": "DFFYvFxbFRwc",
        "outputId": "7e90f63f-f9cb-4846-cd5d-6916f41ceffd"
      },
      "execution_count": null,
      "outputs": [
        {
          "output_type": "stream",
          "name": "stdout",
          "text": [
            "{'brand': 'apple', 'ram': 4, 'storage': 128, 'price': 1000}\n"
          ]
        }
      ]
    },
    {
      "cell_type": "code",
      "source": [
        "brand={\"brand\":brand_list,\"ram\":ram_list,\"storage\":storage_list,\"price\":price_list}\n",
        "print(brand)"
      ],
      "metadata": {
        "colab": {
          "base_uri": "https://localhost:8080/"
        },
        "id": "phD8coBSFcct",
        "outputId": "ec42459c-9379-41af-9666-ebf3fa78a115"
      },
      "execution_count": null,
      "outputs": [
        {
          "output_type": "stream",
          "name": "stdout",
          "text": [
            "{'brand': ['apple', 'samsung', 'lg', 'apple'], 'ram': [8, 12, 4, 6], 'storage': [256, 256, 64, 128], 'price': [900, 899, 600, 800]}\n"
          ]
        }
      ]
    },
    {
      "cell_type": "code",
      "source": [
        "keys=brand.keys()\n",
        "print(\"the brand keys are:\\n\",keys)\n",
        "values=brand.values()\n",
        "print(\"the brand values are:\\n\",values)"
      ],
      "metadata": {
        "colab": {
          "base_uri": "https://localhost:8080/"
        },
        "id": "CmE5zHkmF4DE",
        "outputId": "aefb3f95-4f2d-4007-8758-08cedddc94f7"
      },
      "execution_count": null,
      "outputs": [
        {
          "output_type": "stream",
          "name": "stdout",
          "text": [
            "the brand keys are:\n",
            " dict_keys(['brand', 'ram', 'storage', 'price'])\n",
            "the brand values are:\n",
            " dict_values([['apple', 'samsung', 'lg', 'apple'], [8, 12, 4, 6], [256, 256, 64, 128], [900, 899, 600, 800]])\n"
          ]
        }
      ]
    },
    {
      "cell_type": "code",
      "source": [
        "brand[\"ram\"][2]"
      ],
      "metadata": {
        "colab": {
          "base_uri": "https://localhost:8080/"
        },
        "id": "hc6BM4zWHd5d",
        "outputId": "3d150b44-ccf3-4e62-ef6b-0a94c8ee9cfd"
      },
      "execution_count": null,
      "outputs": [
        {
          "output_type": "execute_result",
          "data": {
            "text/plain": [
              "4"
            ]
          },
          "metadata": {},
          "execution_count": 24
        }
      ]
    },
    {
      "cell_type": "code",
      "source": [
        "brand[\"ram\"][1:3]"
      ],
      "metadata": {
        "colab": {
          "base_uri": "https://localhost:8080/"
        },
        "id": "VIZOyy5UIvC0",
        "outputId": "9a8e7369-f8e4-44e2-db1e-ccb833d049a8"
      },
      "execution_count": null,
      "outputs": [
        {
          "output_type": "execute_result",
          "data": {
            "text/plain": [
              "[12, 4]"
            ]
          },
          "metadata": {},
          "execution_count": 25
        }
      ]
    },
    {
      "cell_type": "code",
      "source": [
        "#quize question\n",
        "dictionary={1:\"USA\", 2:\"India\", 3:\"China\"}\n",
        "dictionary.update({3:\"Japan\"})\n",
        "print(dictionary)"
      ],
      "metadata": {
        "colab": {
          "base_uri": "https://localhost:8080/"
        },
        "id": "07K11TmDJDy3",
        "outputId": "8a869fa6-9909-412f-c4c6-d20ba0dee646"
      },
      "execution_count": null,
      "outputs": [
        {
          "output_type": "stream",
          "name": "stdout",
          "text": [
            "{1: 'USA', 2: 'India', 3: 'Japan'}\n"
          ]
        }
      ]
    },
    {
      "cell_type": "code",
      "source": [
        "dictionary={1:\"USA\", 2:\"India\", 3:\"China\"}\n",
        "dictionary.pop(2)  # () - it's not indicate the index value it's indicate the 2 nd value\n",
        "print(dictionary)"
      ],
      "metadata": {
        "colab": {
          "base_uri": "https://localhost:8080/"
        },
        "id": "n9PvDr0FOxLS",
        "outputId": "61529f22-9d44-40ea-fd97-b2c05ea5933d"
      },
      "execution_count": null,
      "outputs": [
        {
          "output_type": "stream",
          "name": "stdout",
          "text": [
            "{1: 'USA', 3: 'China'}\n"
          ]
        }
      ]
    },
    {
      "cell_type": "code",
      "source": [
        "dictionary={1:\"USA\", 2:\"India\", 3:\"China\"}\n",
        "dictionary.pop[2]\n",
        "print(dictionary)"
      ],
      "metadata": {
        "colab": {
          "base_uri": "https://localhost:8080/",
          "height": 210
        },
        "id": "DuxIGBgSO_9y",
        "outputId": "a23f7c9b-59f2-42f8-fa4f-422afc5da59f"
      },
      "execution_count": null,
      "outputs": [
        {
          "output_type": "error",
          "ename": "TypeError",
          "evalue": "ignored",
          "traceback": [
            "\u001b[0;31m---------------------------------------------------------------------------\u001b[0m",
            "\u001b[0;31mTypeError\u001b[0m                                 Traceback (most recent call last)",
            "\u001b[0;32m<ipython-input-29-b68b6b587509>\u001b[0m in \u001b[0;36m<cell line: 2>\u001b[0;34m()\u001b[0m\n\u001b[1;32m      1\u001b[0m \u001b[0mdictionary\u001b[0m\u001b[0;34m=\u001b[0m\u001b[0;34m{\u001b[0m\u001b[0;36m1\u001b[0m\u001b[0;34m:\u001b[0m\u001b[0;34m\"USA\"\u001b[0m\u001b[0;34m,\u001b[0m \u001b[0;36m2\u001b[0m\u001b[0;34m:\u001b[0m\u001b[0;34m\"India\"\u001b[0m\u001b[0;34m,\u001b[0m \u001b[0;36m3\u001b[0m\u001b[0;34m:\u001b[0m\u001b[0;34m\"China\"\u001b[0m\u001b[0;34m}\u001b[0m\u001b[0;34m\u001b[0m\u001b[0;34m\u001b[0m\u001b[0m\n\u001b[0;32m----> 2\u001b[0;31m \u001b[0mdictionary\u001b[0m\u001b[0;34m.\u001b[0m\u001b[0mpop\u001b[0m\u001b[0;34m[\u001b[0m\u001b[0;36m2\u001b[0m\u001b[0;34m]\u001b[0m\u001b[0;34m\u001b[0m\u001b[0;34m\u001b[0m\u001b[0m\n\u001b[0m\u001b[1;32m      3\u001b[0m \u001b[0mprint\u001b[0m\u001b[0;34m(\u001b[0m\u001b[0mdictionary\u001b[0m\u001b[0;34m)\u001b[0m\u001b[0;34m\u001b[0m\u001b[0;34m\u001b[0m\u001b[0m\n",
            "\u001b[0;31mTypeError\u001b[0m: 'builtin_function_or_method' object is not subscriptable"
          ]
        }
      ]
    },
    {
      "cell_type": "code",
      "source": [
        "a = b = TRUE\n",
        "if (a == b):\n",
        "  print(\"Hello\")\n",
        "else:\n",
        "  print(\"Well done\")"
      ],
      "metadata": {
        "colab": {
          "base_uri": "https://localhost:8080/",
          "height": 245
        },
        "id": "pAKUndH6Pf1M",
        "outputId": "680569e8-1e33-4890-c115-fc0db51e0e79"
      },
      "execution_count": null,
      "outputs": [
        {
          "output_type": "error",
          "ename": "NameError",
          "evalue": "ignored",
          "traceback": [
            "\u001b[0;31m---------------------------------------------------------------------------\u001b[0m",
            "\u001b[0;31mNameError\u001b[0m                                 Traceback (most recent call last)",
            "\u001b[0;32m<ipython-input-30-003e31f63713>\u001b[0m in \u001b[0;36m<cell line: 1>\u001b[0;34m()\u001b[0m\n\u001b[0;32m----> 1\u001b[0;31m \u001b[0ma\u001b[0m \u001b[0;34m=\u001b[0m \u001b[0mb\u001b[0m \u001b[0;34m=\u001b[0m \u001b[0mTRUE\u001b[0m\u001b[0;34m\u001b[0m\u001b[0;34m\u001b[0m\u001b[0m\n\u001b[0m\u001b[1;32m      2\u001b[0m \u001b[0;32mif\u001b[0m \u001b[0;34m(\u001b[0m\u001b[0ma\u001b[0m \u001b[0;34m==\u001b[0m \u001b[0mb\u001b[0m\u001b[0;34m)\u001b[0m\u001b[0;34m:\u001b[0m\u001b[0;34m\u001b[0m\u001b[0;34m\u001b[0m\u001b[0m\n\u001b[1;32m      3\u001b[0m   \u001b[0mprint\u001b[0m\u001b[0;34m(\u001b[0m\u001b[0;34m\"Hello\"\u001b[0m\u001b[0;34m)\u001b[0m\u001b[0;34m\u001b[0m\u001b[0;34m\u001b[0m\u001b[0m\n\u001b[1;32m      4\u001b[0m \u001b[0;32melse\u001b[0m\u001b[0;34m:\u001b[0m\u001b[0;34m\u001b[0m\u001b[0;34m\u001b[0m\u001b[0m\n\u001b[1;32m      5\u001b[0m   \u001b[0mprint\u001b[0m\u001b[0;34m(\u001b[0m\u001b[0;34m\"Well done\"\u001b[0m\u001b[0;34m)\u001b[0m\u001b[0;34m\u001b[0m\u001b[0;34m\u001b[0m\u001b[0m\n",
            "\u001b[0;31mNameError\u001b[0m: name 'TRUE' is not defined"
          ]
        }
      ]
    },
    {
      "cell_type": "code",
      "source": [
        "if 4 + 3 == 9:\n",
        " print(\"The addition of 4 and 3 is correct\")\n",
        "else:\n",
        " print(\"The addition of 4 and 3 is not correct\")\n",
        "print(\"Hello\")"
      ],
      "metadata": {
        "colab": {
          "base_uri": "https://localhost:8080/"
        },
        "id": "F8SzTjyyWA7r",
        "outputId": "dd83557c-885c-4ca4-b2e2-5147c9bb257c"
      },
      "execution_count": null,
      "outputs": [
        {
          "output_type": "stream",
          "name": "stdout",
          "text": [
            "The addition of 4 and 3 is not correct\n",
            "Hello\n"
          ]
        }
      ]
    },
    {
      "cell_type": "code",
      "source": [
        "# for loop\n",
        "print(range(6))"
      ],
      "metadata": {
        "colab": {
          "base_uri": "https://localhost:8080/"
        },
        "id": "GZt1oostWItB",
        "outputId": "6b652db5-aa0e-415a-f060-27897fbe163c"
      },
      "execution_count": null,
      "outputs": [
        {
          "output_type": "stream",
          "name": "stdout",
          "text": [
            "range(0, 6)\n"
          ]
        }
      ]
    },
    {
      "cell_type": "code",
      "source": [
        "print(list(range(6)))"
      ],
      "metadata": {
        "colab": {
          "base_uri": "https://localhost:8080/"
        },
        "id": "yAVck_RFXZrf",
        "outputId": "4cfc9168-aaa6-476c-9f60-d71c8035c3f3"
      },
      "execution_count": null,
      "outputs": [
        {
          "output_type": "stream",
          "name": "stdout",
          "text": [
            "[0, 1, 2, 3, 4, 5]\n"
          ]
        }
      ]
    },
    {
      "cell_type": "code",
      "source": [
        "print(list(range(2,10)))"
      ],
      "metadata": {
        "colab": {
          "base_uri": "https://localhost:8080/"
        },
        "id": "UZtvj6F-XlzP",
        "outputId": "808d06db-e921-46bb-d38a-9b0f608ac5d8"
      },
      "execution_count": null,
      "outputs": [
        {
          "output_type": "stream",
          "name": "stdout",
          "text": [
            "[2, 3, 4, 5, 6, 7, 8, 9]\n"
          ]
        }
      ]
    },
    {
      "cell_type": "code",
      "source": [
        "print(list(range(2,10,2)))"
      ],
      "metadata": {
        "colab": {
          "base_uri": "https://localhost:8080/"
        },
        "id": "FvLFuVqUXrSb",
        "outputId": "88e0efd6-65db-4e1a-d9ee-25af2a4e3347"
      },
      "execution_count": null,
      "outputs": [
        {
          "output_type": "stream",
          "name": "stdout",
          "text": [
            "[2, 4, 6, 8]\n"
          ]
        }
      ]
    },
    {
      "cell_type": "code",
      "source": [
        "print(list(range(2,10,-1)))"
      ],
      "metadata": {
        "colab": {
          "base_uri": "https://localhost:8080/"
        },
        "id": "sOoJNy2dXt9h",
        "outputId": "e61a5078-31f2-4700-e60a-e19240e91cbc"
      },
      "execution_count": null,
      "outputs": [
        {
          "output_type": "stream",
          "name": "stdout",
          "text": [
            "[]\n"
          ]
        }
      ]
    },
    {
      "cell_type": "code",
      "source": [
        "print(list(range(20,10,-1)))"
      ],
      "metadata": {
        "colab": {
          "base_uri": "https://localhost:8080/"
        },
        "id": "jop6Ut_WXwtr",
        "outputId": "c8cab1fc-fad6-4980-852f-caeae8ba1f98"
      },
      "execution_count": null,
      "outputs": [
        {
          "output_type": "stream",
          "name": "stdout",
          "text": [
            "[20, 19, 18, 17, 16, 15, 14, 13, 12, 11]\n"
          ]
        }
      ]
    },
    {
      "cell_type": "code",
      "source": [
        "print(list(range(20,10,-2)))"
      ],
      "metadata": {
        "colab": {
          "base_uri": "https://localhost:8080/"
        },
        "id": "ksinO3NHX0aG",
        "outputId": "4ffd1861-3767-4675-bf25-43276d4bf02e"
      },
      "execution_count": null,
      "outputs": [
        {
          "output_type": "stream",
          "name": "stdout",
          "text": [
            "[20, 18, 16, 14, 12]\n"
          ]
        }
      ]
    },
    {
      "cell_type": "code",
      "source": [
        "print(list(range(2,10,3)))"
      ],
      "metadata": {
        "colab": {
          "base_uri": "https://localhost:8080/"
        },
        "id": "-Ri6mwYoX30X",
        "outputId": "7555dcf6-cd14-4e10-bbb1-c14c875e035e"
      },
      "execution_count": null,
      "outputs": [
        {
          "output_type": "stream",
          "name": "stdout",
          "text": [
            "[2, 5, 8]\n"
          ]
        }
      ]
    },
    {
      "cell_type": "code",
      "source": [
        "price=900\n",
        "for i in range(5,21,5):\n",
        "  dis=price*(i/100)\n",
        "  dis_price=price-dis\n",
        "  print(\"the value\",i,\"percent of the discount price is\",dis_price)"
      ],
      "metadata": {
        "colab": {
          "base_uri": "https://localhost:8080/"
        },
        "id": "RDFPual2YC1q",
        "outputId": "5b2b8759-57da-4f59-d9d5-74a6de8db470"
      },
      "execution_count": null,
      "outputs": [
        {
          "output_type": "stream",
          "name": "stdout",
          "text": [
            "the value 5 percent of the discount price is 855.0\n",
            "the value 10 percent of the discount price is 810.0\n",
            "the value 15 percent of the discount price is 765.0\n",
            "the value 20 percent of the discount price is 720.0\n"
          ]
        }
      ]
    },
    {
      "cell_type": "code",
      "source": [
        "\n",
        "dis=price*(i/100)\n",
        "dis"
      ],
      "metadata": {
        "colab": {
          "base_uri": "https://localhost:8080/"
        },
        "id": "YGS08TSyZDkd",
        "outputId": "ee15b353-c7b1-45b9-e913-faf1a42149b3"
      },
      "execution_count": null,
      "outputs": [
        {
          "output_type": "execute_result",
          "data": {
            "text/plain": [
              "180.0"
            ]
          },
          "metadata": {},
          "execution_count": 46
        }
      ]
    },
    {
      "cell_type": "code",
      "source": [
        "for i in range(6):\n",
        "  print(i)"
      ],
      "metadata": {
        "colab": {
          "base_uri": "https://localhost:8080/"
        },
        "id": "YQ09N8p5ZUnn",
        "outputId": "fbfa2446-9a13-4389-b9ec-02bca9427c3f"
      },
      "execution_count": null,
      "outputs": [
        {
          "output_type": "stream",
          "name": "stdout",
          "text": [
            "0\n",
            "1\n",
            "2\n",
            "3\n",
            "4\n",
            "5\n"
          ]
        }
      ]
    },
    {
      "cell_type": "code",
      "source": [
        "print(list(range(6)))"
      ],
      "metadata": {
        "colab": {
          "base_uri": "https://localhost:8080/"
        },
        "id": "Ejgx4HgsZpNZ",
        "outputId": "5d0aeb1b-eceb-435a-966e-4419cc80677d"
      },
      "execution_count": null,
      "outputs": [
        {
          "output_type": "stream",
          "name": "stdout",
          "text": [
            "[0, 1, 2, 3, 4, 5]\n"
          ]
        }
      ]
    },
    {
      "cell_type": "code",
      "source": [
        "x = [1, 2, 3, 4, 5]\n",
        "while x:\n",
        "  print(x.pop(0))\n"
      ],
      "metadata": {
        "id": "BWja1D_ubN3f",
        "colab": {
          "base_uri": "https://localhost:8080/"
        },
        "outputId": "839343ca-bb18-4526-ce4b-4069cdf025a8"
      },
      "execution_count": null,
      "outputs": [
        {
          "output_type": "stream",
          "name": "stdout",
          "text": [
            "1\n",
            "2\n",
            "3\n",
            "4\n",
            "5\n"
          ]
        }
      ]
    },
    {
      "cell_type": "code",
      "source": [
        "x = [1, 2, 3, 4, 5]\n",
        "while x:\n",
        "  print(x.pop(0))\n",
        "  print(x)"
      ],
      "metadata": {
        "colab": {
          "base_uri": "https://localhost:8080/"
        },
        "id": "6azku6aN80Py",
        "outputId": "4a765bfc-720f-4f11-a304-5bddd9505cd2"
      },
      "execution_count": null,
      "outputs": [
        {
          "output_type": "stream",
          "name": "stdout",
          "text": [
            "1\n",
            "[2, 3, 4, 5]\n",
            "2\n",
            "[3, 4, 5]\n",
            "3\n",
            "[4, 5]\n",
            "4\n",
            "[5]\n",
            "5\n",
            "[]\n"
          ]
        }
      ]
    },
    {
      "cell_type": "code",
      "source": [
        "dis_price_list=[]\n",
        "price=[600,800,100,500]\n",
        "for x in price:\n",
        "  dis_price=x-(x*(5/100))\n",
        "  dis_price_list.append(dis_price)\n",
        "print(dis_price_list)"
      ],
      "metadata": {
        "id": "xDLm2h6S-wPI",
        "colab": {
          "base_uri": "https://localhost:8080/"
        },
        "outputId": "86c1370f-90f0-4a96-9e58-49f6a0010430"
      },
      "execution_count": 3,
      "outputs": [
        {
          "output_type": "stream",
          "name": "stdout",
          "text": [
            "[570.0, 760.0, 95.0, 475.0]\n"
          ]
        }
      ]
    },
    {
      "cell_type": "code",
      "source": [
        "\n",
        "price=[600,800,100,500]\n",
        "dis_price_list=[x-(x*(5/100)) for x in price]\n",
        "print(dis_price_list)"
      ],
      "metadata": {
        "colab": {
          "base_uri": "https://localhost:8080/"
        },
        "id": "BSbEYHAiCGX6",
        "outputId": "dbcf9692-5740-403c-f109-02612c58cdd1"
      },
      "execution_count": 7,
      "outputs": [
        {
          "output_type": "stream",
          "name": "stdout",
          "text": [
            "[570.0, 760.0, 95.0, 475.0]\n"
          ]
        }
      ]
    },
    {
      "cell_type": "code",
      "source": [
        "a=int(input(\"enter the budget of phone\"))\n",
        "\n",
        "budget=[\"yes\" if x<=a else \"no\" for x in dis_price_list]\n",
        "print(budget)"
      ],
      "metadata": {
        "colab": {
          "base_uri": "https://localhost:8080/"
        },
        "id": "uqfM3Xu9EQJj",
        "outputId": "c3a49972-672b-494f-e9b6-e1d7e0d23ab8"
      },
      "execution_count": 11,
      "outputs": [
        {
          "output_type": "stream",
          "name": "stdout",
          "text": [
            "enter the budget of phone500\n",
            "['no', 'no', 'yes', 'yes']\n"
          ]
        }
      ]
    },
    {
      "cell_type": "code",
      "source": [
        "budget=[]\n",
        "for i in dis_price_list:\n",
        "  if i<=a:\n",
        "     budget.append(\"yes\")\n",
        "  else:\n",
        "    budget.append(\"no\")\n",
        "\n",
        "print(budget)"
      ],
      "metadata": {
        "colab": {
          "base_uri": "https://localhost:8080/"
        },
        "id": "311MzAQAJRkJ",
        "outputId": "abf2e25b-3fec-46b6-aa7f-17330d40c8d4"
      },
      "execution_count": 15,
      "outputs": [
        {
          "output_type": "stream",
          "name": "stdout",
          "text": [
            "['no', 'no', 'yes', 'yes']\n"
          ]
        }
      ]
    },
    {
      "cell_type": "code",
      "source": [
        "# quize question\n",
        "list_1 = [1, 2, 3, 4, 5]\n",
        "list_comp = [ i for i in list_1 ]           # i think the one line for loop like as append the numbers\n",
        "print(list_comp)"
      ],
      "metadata": {
        "colab": {
          "base_uri": "https://localhost:8080/"
        },
        "id": "xZYzweSlKRfU",
        "outputId": "2e2bab23-17e1-4956-c2c4-b8d81b4ddbfa"
      },
      "execution_count": 16,
      "outputs": [
        {
          "output_type": "stream",
          "name": "stdout",
          "text": [
            "[1, 2, 3, 4, 5]\n"
          ]
        }
      ]
    },
    {
      "cell_type": "code",
      "source": [
        "l=[1,2,3,4,5,6]\n",
        "for i in l:\n",
        "  print(i)"
      ],
      "metadata": {
        "colab": {
          "base_uri": "https://localhost:8080/"
        },
        "id": "Og3wDGQPOgut",
        "outputId": "8b9c8c69-ba1d-44d4-bd9c-5565daff707d"
      },
      "execution_count": 17,
      "outputs": [
        {
          "output_type": "stream",
          "name": "stdout",
          "text": [
            "1\n",
            "2\n",
            "3\n",
            "4\n",
            "5\n",
            "6\n"
          ]
        }
      ]
    },
    {
      "cell_type": "code",
      "source": [
        "def brand(name,price,ram,storage):\n",
        "  print(\"the mobile name is\",name,\"price is\",price,\"ram is\",ram,\"storage is\",storage)\n"
      ],
      "metadata": {
        "id": "uzbSNcq8PClZ"
      },
      "execution_count": 18,
      "outputs": []
    },
    {
      "cell_type": "code",
      "source": [
        "brand(\"apple\",850,8,128)"
      ],
      "metadata": {
        "colab": {
          "base_uri": "https://localhost:8080/"
        },
        "id": "lWE8F4XMVhb1",
        "outputId": "b54613c2-9926-42d8-aa19-f098fabaf142"
      },
      "execution_count": 20,
      "outputs": [
        {
          "output_type": "stream",
          "name": "stdout",
          "text": [
            "the mobile name is apple price is 850 ram is 8 storage is 128\n"
          ]
        }
      ]
    },
    {
      "cell_type": "code",
      "source": [
        "# quize question:\n",
        "\n",
        "1 st question: function is a block of instructions that performs a specific task.\n",
        "               Functions break the program into modular chunks which can be reused later.\n",
        "\n",
        "2 nd question: A function can be defined inside another function in Python.\n",
        "\n",
        "# true or false"
      ],
      "metadata": {
        "id": "aNymPMLfWgal"
      },
      "execution_count": null,
      "outputs": []
    },
    {
      "cell_type": "code",
      "source": [
        "def func(a):\n",
        "  print(a)\n",
        "A = [0,1,2,3]\n",
        "func(A)"
      ],
      "metadata": {
        "colab": {
          "base_uri": "https://localhost:8080/"
        },
        "id": "p9oYU5UXVqo6",
        "outputId": "c1f89985-711d-4b7a-bd28-4389d266d752"
      },
      "execution_count": 21,
      "outputs": [
        {
          "output_type": "stream",
          "name": "stdout",
          "text": [
            "[0, 1, 2, 3]\n"
          ]
        }
      ]
    },
    {
      "cell_type": "code",
      "source": [
        "def say(message, times):\n",
        "    print(message*times)\n",
        "say(\"How are you\", 2)"
      ],
      "metadata": {
        "colab": {
          "base_uri": "https://localhost:8080/"
        },
        "id": "HF5V6a8TWa_3",
        "outputId": "5ba18841-9808-4d91-afe2-3e3ccd3f7233"
      },
      "execution_count": 22,
      "outputs": [
        {
          "output_type": "stream",
          "name": "stdout",
          "text": [
            "How are youHow are you\n"
          ]
        }
      ]
    },
    {
      "cell_type": "code",
      "source": [
        "800*10/100\n"
      ],
      "metadata": {
        "colab": {
          "base_uri": "https://localhost:8080/"
        },
        "id": "XKPpx3-PXOfJ",
        "outputId": "82afc71b-ca8e-4e4a-e459-bbe73cd98358"
      },
      "execution_count": 5,
      "outputs": [
        {
          "output_type": "execute_result",
          "data": {
            "text/plain": [
              "80.0"
            ]
          },
          "metadata": {},
          "execution_count": 5
        }
      ]
    },
    {
      "cell_type": "code",
      "source": [
        "def dis_count(dis):\n",
        "  price=900\n",
        "  discount_price=price-price*dis/100\n",
        "  return discount_price"
      ],
      "metadata": {
        "id": "CKSLiPIFuuKu"
      },
      "execution_count": 6,
      "outputs": []
    },
    {
      "cell_type": "code",
      "source": [
        "dis_count(5)     # we dont use any print statement"
      ],
      "metadata": {
        "colab": {
          "base_uri": "https://localhost:8080/"
        },
        "id": "pDXUGJruv-Oq",
        "outputId": "5a865735-8458-4ce3-9089-b8b1d1d692ec"
      },
      "execution_count": 7,
      "outputs": [
        {
          "output_type": "execute_result",
          "data": {
            "text/plain": [
              "855.0"
            ]
          },
          "metadata": {},
          "execution_count": 7
        }
      ]
    },
    {
      "cell_type": "code",
      "source": [],
      "metadata": {
        "id": "12AU4lEFwDeh"
      },
      "execution_count": null,
      "outputs": []
    }
  ]
}